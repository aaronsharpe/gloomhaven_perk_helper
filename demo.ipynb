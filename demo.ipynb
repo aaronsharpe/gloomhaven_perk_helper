{
 "cells": [
  {
   "cell_type": "code",
   "execution_count": 1,
   "id": "assured-electric",
   "metadata": {},
   "outputs": [],
   "source": [
    "from perk_helper import ModCard, ModDeck\n",
    "import numpy as np"
   ]
  },
  {
   "cell_type": "code",
   "execution_count": 2,
   "id": "developed-quantity",
   "metadata": {},
   "outputs": [],
   "source": [
    "md = ModDeck()\n",
    "md.add_card(1, ModCard(damage_mod=1, gen_air=True, rolling=True))\n",
    "md.add_card(1, ModCard(damage_mod=2, rolling=True))"
   ]
  },
  {
   "cell_type": "code",
   "execution_count": 3,
   "id": "vocal-victim",
   "metadata": {},
   "outputs": [],
   "source": [
    "md.compute_rolls()\n"
   ]
  },
  {
   "cell_type": "code",
   "execution_count": 4,
   "id": "fitting-holocaust",
   "metadata": {},
   "outputs": [
    {
     "output_type": "execute_result",
     "data": {
      "text/plain": [
       "[[[(damage_mod, -2)]],\n",
       " [[(damage_mod, -1)]],\n",
       " [[(damage_mod, -1)]],\n",
       " [[(damage_mod, -1)]],\n",
       " [[(damage_mod, -1)]],\n",
       " [[(damage_mod, -1)]],\n",
       " [[(damage_mod, 0)]],\n",
       " [[(damage_mod, 0)]],\n",
       " [[(damage_mod, 0)]],\n",
       " [[(damage_mod, 0)]],\n",
       " [[(damage_mod, 0)]],\n",
       " [[(damage_mod, 0)]],\n",
       " [[(damage_mod, 1)]],\n",
       " [[(damage_mod, 1)]],\n",
       " [[(damage_mod, 1)]],\n",
       " [[(damage_mod, 1)]],\n",
       " [[(damage_mod, 1)]],\n",
       " [[(damage_mod, 2)]],\n",
       " [[(multiplier, 2), (damage_mod, 0)]],\n",
       " [[(multiplier, 0), (damage_mod, 0)]],\n",
       " [[(damage_mod, 1), (rolling, True), (gen_air, True)], [(damage_mod, -2)]],\n",
       " [[(damage_mod, 1), (rolling, True), (gen_air, True)], [(damage_mod, -1)]],\n",
       " [[(damage_mod, 1), (rolling, True), (gen_air, True)], [(damage_mod, -1)]],\n",
       " [[(damage_mod, 1), (rolling, True), (gen_air, True)], [(damage_mod, -1)]],\n",
       " [[(damage_mod, 1), (rolling, True), (gen_air, True)], [(damage_mod, -1)]],\n",
       " [[(damage_mod, 1), (rolling, True), (gen_air, True)], [(damage_mod, -1)]],\n",
       " [[(damage_mod, 1), (rolling, True), (gen_air, True)], [(damage_mod, 0)]],\n",
       " [[(damage_mod, 1), (rolling, True), (gen_air, True)], [(damage_mod, 0)]],\n",
       " [[(damage_mod, 1), (rolling, True), (gen_air, True)], [(damage_mod, 0)]],\n",
       " [[(damage_mod, 1), (rolling, True), (gen_air, True)], [(damage_mod, 0)]],\n",
       " [[(damage_mod, 1), (rolling, True), (gen_air, True)], [(damage_mod, 0)]],\n",
       " [[(damage_mod, 1), (rolling, True), (gen_air, True)], [(damage_mod, 0)]],\n",
       " [[(damage_mod, 1), (rolling, True), (gen_air, True)], [(damage_mod, 1)]],\n",
       " [[(damage_mod, 1), (rolling, True), (gen_air, True)], [(damage_mod, 1)]],\n",
       " [[(damage_mod, 1), (rolling, True), (gen_air, True)], [(damage_mod, 1)]],\n",
       " [[(damage_mod, 1), (rolling, True), (gen_air, True)], [(damage_mod, 1)]],\n",
       " [[(damage_mod, 1), (rolling, True), (gen_air, True)], [(damage_mod, 1)]],\n",
       " [[(damage_mod, 1), (rolling, True), (gen_air, True)], [(damage_mod, 2)]],\n",
       " [[(damage_mod, 1), (rolling, True), (gen_air, True)],\n",
       "  [(multiplier, 2), (damage_mod, 0)]],\n",
       " [[(damage_mod, 1), (rolling, True), (gen_air, True)],\n",
       "  [(multiplier, 0), (damage_mod, 0)]],\n",
       " [[(damage_mod, 1), (rolling, True), (gen_air, True)],\n",
       "  [(damage_mod, 2), (rolling, True)],\n",
       "  [(damage_mod, -2)]],\n",
       " [[(damage_mod, 1), (rolling, True), (gen_air, True)],\n",
       "  [(damage_mod, 2), (rolling, True)],\n",
       "  [(damage_mod, -1)]],\n",
       " [[(damage_mod, 1), (rolling, True), (gen_air, True)],\n",
       "  [(damage_mod, 2), (rolling, True)],\n",
       "  [(damage_mod, -1)]],\n",
       " [[(damage_mod, 1), (rolling, True), (gen_air, True)],\n",
       "  [(damage_mod, 2), (rolling, True)],\n",
       "  [(damage_mod, -1)]],\n",
       " [[(damage_mod, 1), (rolling, True), (gen_air, True)],\n",
       "  [(damage_mod, 2), (rolling, True)],\n",
       "  [(damage_mod, -1)]],\n",
       " [[(damage_mod, 1), (rolling, True), (gen_air, True)],\n",
       "  [(damage_mod, 2), (rolling, True)],\n",
       "  [(damage_mod, -1)]],\n",
       " [[(damage_mod, 1), (rolling, True), (gen_air, True)],\n",
       "  [(damage_mod, 2), (rolling, True)],\n",
       "  [(damage_mod, 0)]],\n",
       " [[(damage_mod, 1), (rolling, True), (gen_air, True)],\n",
       "  [(damage_mod, 2), (rolling, True)],\n",
       "  [(damage_mod, 0)]],\n",
       " [[(damage_mod, 1), (rolling, True), (gen_air, True)],\n",
       "  [(damage_mod, 2), (rolling, True)],\n",
       "  [(damage_mod, 0)]],\n",
       " [[(damage_mod, 1), (rolling, True), (gen_air, True)],\n",
       "  [(damage_mod, 2), (rolling, True)],\n",
       "  [(damage_mod, 0)]],\n",
       " [[(damage_mod, 1), (rolling, True), (gen_air, True)],\n",
       "  [(damage_mod, 2), (rolling, True)],\n",
       "  [(damage_mod, 0)]],\n",
       " [[(damage_mod, 1), (rolling, True), (gen_air, True)],\n",
       "  [(damage_mod, 2), (rolling, True)],\n",
       "  [(damage_mod, 0)]],\n",
       " [[(damage_mod, 1), (rolling, True), (gen_air, True)],\n",
       "  [(damage_mod, 2), (rolling, True)],\n",
       "  [(damage_mod, 1)]],\n",
       " [[(damage_mod, 1), (rolling, True), (gen_air, True)],\n",
       "  [(damage_mod, 2), (rolling, True)],\n",
       "  [(damage_mod, 1)]],\n",
       " [[(damage_mod, 1), (rolling, True), (gen_air, True)],\n",
       "  [(damage_mod, 2), (rolling, True)],\n",
       "  [(damage_mod, 1)]],\n",
       " [[(damage_mod, 1), (rolling, True), (gen_air, True)],\n",
       "  [(damage_mod, 2), (rolling, True)],\n",
       "  [(damage_mod, 1)]],\n",
       " [[(damage_mod, 1), (rolling, True), (gen_air, True)],\n",
       "  [(damage_mod, 2), (rolling, True)],\n",
       "  [(damage_mod, 1)]],\n",
       " [[(damage_mod, 1), (rolling, True), (gen_air, True)],\n",
       "  [(damage_mod, 2), (rolling, True)],\n",
       "  [(damage_mod, 2)]],\n",
       " [[(damage_mod, 1), (rolling, True), (gen_air, True)],\n",
       "  [(damage_mod, 2), (rolling, True)],\n",
       "  [(multiplier, 2), (damage_mod, 0)]],\n",
       " [[(damage_mod, 1), (rolling, True), (gen_air, True)],\n",
       "  [(damage_mod, 2), (rolling, True)],\n",
       "  [(multiplier, 0), (damage_mod, 0)]],\n",
       " [[(damage_mod, 2), (rolling, True)], [(damage_mod, -2)]],\n",
       " [[(damage_mod, 2), (rolling, True)], [(damage_mod, -1)]],\n",
       " [[(damage_mod, 2), (rolling, True)], [(damage_mod, -1)]],\n",
       " [[(damage_mod, 2), (rolling, True)], [(damage_mod, -1)]],\n",
       " [[(damage_mod, 2), (rolling, True)], [(damage_mod, -1)]],\n",
       " [[(damage_mod, 2), (rolling, True)], [(damage_mod, -1)]],\n",
       " [[(damage_mod, 2), (rolling, True)], [(damage_mod, 0)]],\n",
       " [[(damage_mod, 2), (rolling, True)], [(damage_mod, 0)]],\n",
       " [[(damage_mod, 2), (rolling, True)], [(damage_mod, 0)]],\n",
       " [[(damage_mod, 2), (rolling, True)], [(damage_mod, 0)]],\n",
       " [[(damage_mod, 2), (rolling, True)], [(damage_mod, 0)]],\n",
       " [[(damage_mod, 2), (rolling, True)], [(damage_mod, 0)]],\n",
       " [[(damage_mod, 2), (rolling, True)], [(damage_mod, 1)]],\n",
       " [[(damage_mod, 2), (rolling, True)], [(damage_mod, 1)]],\n",
       " [[(damage_mod, 2), (rolling, True)], [(damage_mod, 1)]],\n",
       " [[(damage_mod, 2), (rolling, True)], [(damage_mod, 1)]],\n",
       " [[(damage_mod, 2), (rolling, True)], [(damage_mod, 1)]],\n",
       " [[(damage_mod, 2), (rolling, True)], [(damage_mod, 2)]],\n",
       " [[(damage_mod, 2), (rolling, True)], [(multiplier, 2), (damage_mod, 0)]],\n",
       " [[(damage_mod, 2), (rolling, True)], [(multiplier, 0), (damage_mod, 0)]],\n",
       " [[(damage_mod, 2), (rolling, True)],\n",
       "  [(damage_mod, 1), (rolling, True), (gen_air, True)],\n",
       "  [(damage_mod, -2)]],\n",
       " [[(damage_mod, 2), (rolling, True)],\n",
       "  [(damage_mod, 1), (rolling, True), (gen_air, True)],\n",
       "  [(damage_mod, -1)]],\n",
       " [[(damage_mod, 2), (rolling, True)],\n",
       "  [(damage_mod, 1), (rolling, True), (gen_air, True)],\n",
       "  [(damage_mod, -1)]],\n",
       " [[(damage_mod, 2), (rolling, True)],\n",
       "  [(damage_mod, 1), (rolling, True), (gen_air, True)],\n",
       "  [(damage_mod, -1)]],\n",
       " [[(damage_mod, 2), (rolling, True)],\n",
       "  [(damage_mod, 1), (rolling, True), (gen_air, True)],\n",
       "  [(damage_mod, -1)]],\n",
       " [[(damage_mod, 2), (rolling, True)],\n",
       "  [(damage_mod, 1), (rolling, True), (gen_air, True)],\n",
       "  [(damage_mod, -1)]],\n",
       " [[(damage_mod, 2), (rolling, True)],\n",
       "  [(damage_mod, 1), (rolling, True), (gen_air, True)],\n",
       "  [(damage_mod, 0)]],\n",
       " [[(damage_mod, 2), (rolling, True)],\n",
       "  [(damage_mod, 1), (rolling, True), (gen_air, True)],\n",
       "  [(damage_mod, 0)]],\n",
       " [[(damage_mod, 2), (rolling, True)],\n",
       "  [(damage_mod, 1), (rolling, True), (gen_air, True)],\n",
       "  [(damage_mod, 0)]],\n",
       " [[(damage_mod, 2), (rolling, True)],\n",
       "  [(damage_mod, 1), (rolling, True), (gen_air, True)],\n",
       "  [(damage_mod, 0)]],\n",
       " [[(damage_mod, 2), (rolling, True)],\n",
       "  [(damage_mod, 1), (rolling, True), (gen_air, True)],\n",
       "  [(damage_mod, 0)]],\n",
       " [[(damage_mod, 2), (rolling, True)],\n",
       "  [(damage_mod, 1), (rolling, True), (gen_air, True)],\n",
       "  [(damage_mod, 0)]],\n",
       " [[(damage_mod, 2), (rolling, True)],\n",
       "  [(damage_mod, 1), (rolling, True), (gen_air, True)],\n",
       "  [(damage_mod, 1)]],\n",
       " [[(damage_mod, 2), (rolling, True)],\n",
       "  [(damage_mod, 1), (rolling, True), (gen_air, True)],\n",
       "  [(damage_mod, 1)]],\n",
       " [[(damage_mod, 2), (rolling, True)],\n",
       "  [(damage_mod, 1), (rolling, True), (gen_air, True)],\n",
       "  [(damage_mod, 1)]],\n",
       " [[(damage_mod, 2), (rolling, True)],\n",
       "  [(damage_mod, 1), (rolling, True), (gen_air, True)],\n",
       "  [(damage_mod, 1)]],\n",
       " [[(damage_mod, 2), (rolling, True)],\n",
       "  [(damage_mod, 1), (rolling, True), (gen_air, True)],\n",
       "  [(damage_mod, 1)]],\n",
       " [[(damage_mod, 2), (rolling, True)],\n",
       "  [(damage_mod, 1), (rolling, True), (gen_air, True)],\n",
       "  [(damage_mod, 2)]],\n",
       " [[(damage_mod, 2), (rolling, True)],\n",
       "  [(damage_mod, 1), (rolling, True), (gen_air, True)],\n",
       "  [(multiplier, 2), (damage_mod, 0)]],\n",
       " [[(damage_mod, 2), (rolling, True)],\n",
       "  [(damage_mod, 1), (rolling, True), (gen_air, True)],\n",
       "  [(multiplier, 0), (damage_mod, 0)]]]"
      ]
     },
     "metadata": {},
     "execution_count": 4
    }
   ],
   "source": [
    "md.rolls"
   ]
  },
  {
   "cell_type": "code",
   "execution_count": 7,
   "metadata": {},
   "outputs": [
    {
     "output_type": "execute_result",
     "data": {
      "text/plain": [
       "{'multiplier': 1.0,\n",
       " 'damage_mod': 1.8,\n",
       " 'rolling': 0.0,\n",
       " 'gen_air': 0.6,\n",
       " 'gen_dark': 0.0,\n",
       " 'gen_earth': 0.0,\n",
       " 'gen_fire': 0.0,\n",
       " 'gen_ice': 0.0,\n",
       " 'gen_light': 0.0,\n",
       " 'poison': 0.0,\n",
       " 'muddle': 0.0,\n",
       " 'wound': 0.0,\n",
       " 'invisible': 0.0,\n",
       " 'immobilize': 0.0,\n",
       " 'strengthen': 0.0,\n",
       " 'regenerate': 0.0,\n",
       " 'refresh': 0.0,\n",
       " 'disarm': 0.0,\n",
       " 'stun': 0.0,\n",
       " 'add_target': 0.0,\n",
       " 'heal': 0.0,\n",
       " 'push': 0.0,\n",
       " 'pull': 0.0,\n",
       " 'pierce': 0.0,\n",
       " 'shield': 0.0,\n",
       " 'apply_bless': 0.0,\n",
       " 'apply_curse': 0.0}"
      ]
     },
     "metadata": {},
     "execution_count": 7
    }
   ],
   "source": [
    "md.stats"
   ]
  },
  {
   "cell_type": "code",
   "execution_count": 6,
   "metadata": {},
   "outputs": [
    {
     "output_type": "execute_result",
     "data": {
      "text/plain": [
       "0.6"
      ]
     },
     "metadata": {},
     "execution_count": 6
    }
   ],
   "source": [
    "np.mean(md.stats['gen_air'])"
   ]
  },
  {
   "cell_type": "code",
   "execution_count": null,
   "metadata": {},
   "outputs": [],
   "source": []
  }
 ],
 "metadata": {
  "kernelspec": {
   "name": "python385jvsc74a57bd031f2aee4e71d21fbe5cf8b01ff0e069b9275f58929596ceb00d14d90e3e16cd6",
   "display_name": "Python 3.8.5 64-bit"
  },
  "language_info": {
   "codemirror_mode": {
    "name": "ipython",
    "version": 3
   },
   "file_extension": ".py",
   "mimetype": "text/x-python",
   "name": "python",
   "nbconvert_exporter": "python",
   "pygments_lexer": "ipython3",
   "version": "3.8.5"
  },
  "metadata": {
   "interpreter": {
    "hash": "31f2aee4e71d21fbe5cf8b01ff0e069b9275f58929596ceb00d14d90e3e16cd6"
   }
  }
 },
 "nbformat": 4,
 "nbformat_minor": 5
}