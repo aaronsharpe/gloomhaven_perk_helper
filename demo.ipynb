{
 "cells": [
  {
   "cell_type": "code",
   "execution_count": 1,
   "id": "returning-possible",
   "metadata": {},
   "outputs": [],
   "source": [
    "from perk_helper import ModCard, ModDeck\n",
    "import numpy as np"
   ]
  },
  {
   "cell_type": "code",
   "execution_count": 2,
   "id": "civilian-weekly",
   "metadata": {},
   "outputs": [],
   "source": [
    "md = ModDeck()\n",
    "md.add_card(1, ModCard(damage_mod=1, rolling=True))\n",
    "md.add_card(1, ModCard(damage_mod=2, rolling=True))"
   ]
  },
  {
   "cell_type": "code",
   "execution_count": 3,
   "id": "dated-dollar",
   "metadata": {},
   "outputs": [
    {
     "data": {
      "text/plain": [
       "[[(damage_mod, -2)],\n",
       " [(damage_mod, -1)],\n",
       " [(damage_mod, -1)],\n",
       " [(damage_mod, -1)],\n",
       " [(damage_mod, -1)],\n",
       " [(damage_mod, -1)],\n",
       " [(damage_mod, 0)],\n",
       " [(damage_mod, 0)],\n",
       " [(damage_mod, 0)],\n",
       " [(damage_mod, 0)],\n",
       " [(damage_mod, 0)],\n",
       " [(damage_mod, 0)],\n",
       " [(damage_mod, 1)],\n",
       " [(damage_mod, 1)],\n",
       " [(damage_mod, 1)],\n",
       " [(damage_mod, 1)],\n",
       " [(damage_mod, 1)],\n",
       " [(damage_mod, 2)],\n",
       " [(multiplier, 2), (damage_mod, 0)],\n",
       " [(multiplier, 0), (damage_mod, 0)],\n",
       " [(damage_mod, 1), (rolling, True)],\n",
       " [(damage_mod, 2), (rolling, True)]]"
      ]
     },
     "execution_count": 3,
     "metadata": {},
     "output_type": "execute_result"
    }
   ],
   "source": [
    "md.deck"
   ]
  },
  {
   "cell_type": "code",
   "execution_count": 4,
   "id": "polyphonic-given",
   "metadata": {},
   "outputs": [
    {
     "name": "stdout",
     "output_type": "stream",
     "text": [
      "(100,)\n"
     ]
    },
    {
     "data": {
      "text/plain": [
       "[[[(damage_mod, -2)]],\n",
       " [[(damage_mod, -1)]],\n",
       " [[(damage_mod, -1)]],\n",
       " [[(damage_mod, -1)]],\n",
       " [[(damage_mod, -1)]],\n",
       " [[(damage_mod, -1)]],\n",
       " [[(damage_mod, 0)]],\n",
       " [[(damage_mod, 0)]],\n",
       " [[(damage_mod, 0)]],\n",
       " [[(damage_mod, 0)]],\n",
       " [[(damage_mod, 0)]],\n",
       " [[(damage_mod, 0)]],\n",
       " [[(damage_mod, 1)]],\n",
       " [[(damage_mod, 1)]],\n",
       " [[(damage_mod, 1)]],\n",
       " [[(damage_mod, 1)]],\n",
       " [[(damage_mod, 1)]],\n",
       " [[(damage_mod, 2)]],\n",
       " [[(multiplier, 2), (damage_mod, 0)]],\n",
       " [[(multiplier, 0), (damage_mod, 0)]],\n",
       " [[(damage_mod, 1), (rolling, True)], [(damage_mod, -2)]],\n",
       " [[(damage_mod, 1), (rolling, True)], [(damage_mod, -1)]],\n",
       " [[(damage_mod, 1), (rolling, True)], [(damage_mod, -1)]],\n",
       " [[(damage_mod, 1), (rolling, True)], [(damage_mod, -1)]],\n",
       " [[(damage_mod, 1), (rolling, True)], [(damage_mod, -1)]],\n",
       " [[(damage_mod, 1), (rolling, True)], [(damage_mod, -1)]],\n",
       " [[(damage_mod, 1), (rolling, True)], [(damage_mod, 0)]],\n",
       " [[(damage_mod, 1), (rolling, True)], [(damage_mod, 0)]],\n",
       " [[(damage_mod, 1), (rolling, True)], [(damage_mod, 0)]],\n",
       " [[(damage_mod, 1), (rolling, True)], [(damage_mod, 0)]],\n",
       " [[(damage_mod, 1), (rolling, True)], [(damage_mod, 0)]],\n",
       " [[(damage_mod, 1), (rolling, True)], [(damage_mod, 0)]],\n",
       " [[(damage_mod, 1), (rolling, True)], [(damage_mod, 1)]],\n",
       " [[(damage_mod, 1), (rolling, True)], [(damage_mod, 1)]],\n",
       " [[(damage_mod, 1), (rolling, True)], [(damage_mod, 1)]],\n",
       " [[(damage_mod, 1), (rolling, True)], [(damage_mod, 1)]],\n",
       " [[(damage_mod, 1), (rolling, True)], [(damage_mod, 1)]],\n",
       " [[(damage_mod, 1), (rolling, True)], [(damage_mod, 2)]],\n",
       " [[(damage_mod, 1), (rolling, True)], [(multiplier, 2), (damage_mod, 0)]],\n",
       " [[(damage_mod, 1), (rolling, True)], [(multiplier, 0), (damage_mod, 0)]],\n",
       " [[(damage_mod, 1), (rolling, True)],\n",
       "  [(damage_mod, 2), (rolling, True)],\n",
       "  [(damage_mod, -2)]],\n",
       " [[(damage_mod, 1), (rolling, True)],\n",
       "  [(damage_mod, 2), (rolling, True)],\n",
       "  [(damage_mod, -1)]],\n",
       " [[(damage_mod, 1), (rolling, True)],\n",
       "  [(damage_mod, 2), (rolling, True)],\n",
       "  [(damage_mod, -1)]],\n",
       " [[(damage_mod, 1), (rolling, True)],\n",
       "  [(damage_mod, 2), (rolling, True)],\n",
       "  [(damage_mod, -1)]],\n",
       " [[(damage_mod, 1), (rolling, True)],\n",
       "  [(damage_mod, 2), (rolling, True)],\n",
       "  [(damage_mod, -1)]],\n",
       " [[(damage_mod, 1), (rolling, True)],\n",
       "  [(damage_mod, 2), (rolling, True)],\n",
       "  [(damage_mod, -1)]],\n",
       " [[(damage_mod, 1), (rolling, True)],\n",
       "  [(damage_mod, 2), (rolling, True)],\n",
       "  [(damage_mod, 0)]],\n",
       " [[(damage_mod, 1), (rolling, True)],\n",
       "  [(damage_mod, 2), (rolling, True)],\n",
       "  [(damage_mod, 0)]],\n",
       " [[(damage_mod, 1), (rolling, True)],\n",
       "  [(damage_mod, 2), (rolling, True)],\n",
       "  [(damage_mod, 0)]],\n",
       " [[(damage_mod, 1), (rolling, True)],\n",
       "  [(damage_mod, 2), (rolling, True)],\n",
       "  [(damage_mod, 0)]],\n",
       " [[(damage_mod, 1), (rolling, True)],\n",
       "  [(damage_mod, 2), (rolling, True)],\n",
       "  [(damage_mod, 0)]],\n",
       " [[(damage_mod, 1), (rolling, True)],\n",
       "  [(damage_mod, 2), (rolling, True)],\n",
       "  [(damage_mod, 0)]],\n",
       " [[(damage_mod, 1), (rolling, True)],\n",
       "  [(damage_mod, 2), (rolling, True)],\n",
       "  [(damage_mod, 1)]],\n",
       " [[(damage_mod, 1), (rolling, True)],\n",
       "  [(damage_mod, 2), (rolling, True)],\n",
       "  [(damage_mod, 1)]],\n",
       " [[(damage_mod, 1), (rolling, True)],\n",
       "  [(damage_mod, 2), (rolling, True)],\n",
       "  [(damage_mod, 1)]],\n",
       " [[(damage_mod, 1), (rolling, True)],\n",
       "  [(damage_mod, 2), (rolling, True)],\n",
       "  [(damage_mod, 1)]],\n",
       " [[(damage_mod, 1), (rolling, True)],\n",
       "  [(damage_mod, 2), (rolling, True)],\n",
       "  [(damage_mod, 1)]],\n",
       " [[(damage_mod, 1), (rolling, True)],\n",
       "  [(damage_mod, 2), (rolling, True)],\n",
       "  [(damage_mod, 2)]],\n",
       " [[(damage_mod, 1), (rolling, True)],\n",
       "  [(damage_mod, 2), (rolling, True)],\n",
       "  [(multiplier, 2), (damage_mod, 0)]],\n",
       " [[(damage_mod, 1), (rolling, True)],\n",
       "  [(damage_mod, 2), (rolling, True)],\n",
       "  [(multiplier, 0), (damage_mod, 0)]],\n",
       " [[(damage_mod, 2), (rolling, True)], [(damage_mod, -2)]],\n",
       " [[(damage_mod, 2), (rolling, True)], [(damage_mod, -1)]],\n",
       " [[(damage_mod, 2), (rolling, True)], [(damage_mod, -1)]],\n",
       " [[(damage_mod, 2), (rolling, True)], [(damage_mod, -1)]],\n",
       " [[(damage_mod, 2), (rolling, True)], [(damage_mod, -1)]],\n",
       " [[(damage_mod, 2), (rolling, True)], [(damage_mod, -1)]],\n",
       " [[(damage_mod, 2), (rolling, True)], [(damage_mod, 0)]],\n",
       " [[(damage_mod, 2), (rolling, True)], [(damage_mod, 0)]],\n",
       " [[(damage_mod, 2), (rolling, True)], [(damage_mod, 0)]],\n",
       " [[(damage_mod, 2), (rolling, True)], [(damage_mod, 0)]],\n",
       " [[(damage_mod, 2), (rolling, True)], [(damage_mod, 0)]],\n",
       " [[(damage_mod, 2), (rolling, True)], [(damage_mod, 0)]],\n",
       " [[(damage_mod, 2), (rolling, True)], [(damage_mod, 1)]],\n",
       " [[(damage_mod, 2), (rolling, True)], [(damage_mod, 1)]],\n",
       " [[(damage_mod, 2), (rolling, True)], [(damage_mod, 1)]],\n",
       " [[(damage_mod, 2), (rolling, True)], [(damage_mod, 1)]],\n",
       " [[(damage_mod, 2), (rolling, True)], [(damage_mod, 1)]],\n",
       " [[(damage_mod, 2), (rolling, True)], [(damage_mod, 2)]],\n",
       " [[(damage_mod, 2), (rolling, True)], [(multiplier, 2), (damage_mod, 0)]],\n",
       " [[(damage_mod, 2), (rolling, True)], [(multiplier, 0), (damage_mod, 0)]],\n",
       " [[(damage_mod, 2), (rolling, True)],\n",
       "  [(damage_mod, 1), (rolling, True)],\n",
       "  [(damage_mod, -2)]],\n",
       " [[(damage_mod, 2), (rolling, True)],\n",
       "  [(damage_mod, 1), (rolling, True)],\n",
       "  [(damage_mod, -1)]],\n",
       " [[(damage_mod, 2), (rolling, True)],\n",
       "  [(damage_mod, 1), (rolling, True)],\n",
       "  [(damage_mod, -1)]],\n",
       " [[(damage_mod, 2), (rolling, True)],\n",
       "  [(damage_mod, 1), (rolling, True)],\n",
       "  [(damage_mod, -1)]],\n",
       " [[(damage_mod, 2), (rolling, True)],\n",
       "  [(damage_mod, 1), (rolling, True)],\n",
       "  [(damage_mod, -1)]],\n",
       " [[(damage_mod, 2), (rolling, True)],\n",
       "  [(damage_mod, 1), (rolling, True)],\n",
       "  [(damage_mod, -1)]],\n",
       " [[(damage_mod, 2), (rolling, True)],\n",
       "  [(damage_mod, 1), (rolling, True)],\n",
       "  [(damage_mod, 0)]],\n",
       " [[(damage_mod, 2), (rolling, True)],\n",
       "  [(damage_mod, 1), (rolling, True)],\n",
       "  [(damage_mod, 0)]],\n",
       " [[(damage_mod, 2), (rolling, True)],\n",
       "  [(damage_mod, 1), (rolling, True)],\n",
       "  [(damage_mod, 0)]],\n",
       " [[(damage_mod, 2), (rolling, True)],\n",
       "  [(damage_mod, 1), (rolling, True)],\n",
       "  [(damage_mod, 0)]],\n",
       " [[(damage_mod, 2), (rolling, True)],\n",
       "  [(damage_mod, 1), (rolling, True)],\n",
       "  [(damage_mod, 0)]],\n",
       " [[(damage_mod, 2), (rolling, True)],\n",
       "  [(damage_mod, 1), (rolling, True)],\n",
       "  [(damage_mod, 0)]],\n",
       " [[(damage_mod, 2), (rolling, True)],\n",
       "  [(damage_mod, 1), (rolling, True)],\n",
       "  [(damage_mod, 1)]],\n",
       " [[(damage_mod, 2), (rolling, True)],\n",
       "  [(damage_mod, 1), (rolling, True)],\n",
       "  [(damage_mod, 1)]],\n",
       " [[(damage_mod, 2), (rolling, True)],\n",
       "  [(damage_mod, 1), (rolling, True)],\n",
       "  [(damage_mod, 1)]],\n",
       " [[(damage_mod, 2), (rolling, True)],\n",
       "  [(damage_mod, 1), (rolling, True)],\n",
       "  [(damage_mod, 1)]],\n",
       " [[(damage_mod, 2), (rolling, True)],\n",
       "  [(damage_mod, 1), (rolling, True)],\n",
       "  [(damage_mod, 1)]],\n",
       " [[(damage_mod, 2), (rolling, True)],\n",
       "  [(damage_mod, 1), (rolling, True)],\n",
       "  [(damage_mod, 2)]],\n",
       " [[(damage_mod, 2), (rolling, True)],\n",
       "  [(damage_mod, 1), (rolling, True)],\n",
       "  [(multiplier, 2), (damage_mod, 0)]],\n",
       " [[(damage_mod, 2), (rolling, True)],\n",
       "  [(damage_mod, 1), (rolling, True)],\n",
       "  [(multiplier, 0), (damage_mod, 0)]]]"
      ]
     },
     "execution_count": 4,
     "metadata": {},
     "output_type": "execute_result"
    }
   ],
   "source": [
    "md.compute_rolls()\n",
    "print(np.shape(md.rolls))\n",
    "md.rolls"
   ]
  },
  {
   "cell_type": "markdown",
   "id": "czech-access",
   "metadata": {},
   "source": [
    "# old code to migrate"
   ]
  },
  {
   "cell_type": "code",
   "execution_count": 5,
   "id": "acceptable-jacob",
   "metadata": {},
   "outputs": [],
   "source": [
    "import numpy as np\n",
    "import matplotlib.pyplot as plt\n",
    "from itertools import combinations\n",
    "\n",
    "def build_deck(curse_count=0, bless_count=0):\n",
    "    # multiplier, additive factor, number of cards\n",
    "    mod_cards = [(2, 0, 1+bless_count), (0, 0, 1+curse_count), (1, -2, 1), (1, -1, 5), (1, 0, 6), (1, 1, 5), (1, 2, 1)]\n",
    "    deck = []\n",
    "    for card in mod_cards:\n",
    "        for _ in range(card[2]):\n",
    "            deck.append((card[0], card[1]))\n",
    "        \n",
    "    return sorted(deck)\n",
    "\n",
    "def attack(base, deck, muddle=False, strengthen=False):\n",
    "    damages = []\n",
    "    if muddle and not strengthen:\n",
    "        for card0, card1 in combinations(deck, 2):\n",
    "            dmg0 = base*card0[0] + card0[1]\n",
    "            dmg1 = base*card1[0] + card1[1]\n",
    "            dmg = np.min((dmg0, dmg1))\n",
    "            damages.append(np.max((dmg, 0)))\n",
    "    elif strengthen and not muddle:\n",
    "        for card0, card1 in combinations(deck, 2):\n",
    "            dmg0 = base*card0[0] + card0[1]\n",
    "            dmg1 = base*card1[0] + card1[1]\n",
    "            dmg = np.max((dmg0, dmg1))\n",
    "            damages.append(np.max((dmg, 0)))\n",
    "    else:\n",
    "        for card in deck:\n",
    "            damages.append(np.max((base*card[0] + card[1], 0)))\n",
    "    return damages"
   ]
  },
  {
   "cell_type": "code",
   "execution_count": 6,
   "id": "representative-stack",
   "metadata": {},
   "outputs": [
    {
     "name": "stdout",
     "output_type": "stream",
     "text": [
      "[(0, 0), (1, -2), (1, -1), (1, -1), (1, -1), (1, -1), (1, -1), (1, 0), (1, 0), (1, 0), (1, 0), (1, 0), (1, 0), (1, 1), (1, 1), (1, 1), (1, 1), (1, 1), (1, 2), (2, 0)]\n",
      "[0, 0, 0, 0, 0, 0, 0, 0, 0, 0, 0, 0, 0, 0, 0, 0, 0, 0, 0, 4, 4, 4, 4, 4, 4, 4, 4, 4, 4, 4, 4, 4, 4, 4, 4, 4, 4, 5, 5, 5, 5, 5, 5, 5, 5, 5, 5, 5, 5, 5, 5, 5, 5, 5, 5, 5, 5, 5, 5, 5, 5, 5, 5, 5, 5, 5, 5, 5, 5, 5, 5, 5, 5, 5, 5, 5, 5, 5, 5, 5, 5, 5, 5, 5, 5, 5, 5, 5, 5, 5, 5, 5, 5, 5, 5, 5, 5, 5, 5, 5, 5, 5, 5, 5, 5, 5, 5, 5, 5, 5, 5, 5, 6, 6, 6, 6, 6, 6, 6, 6, 6, 6, 6, 6, 6, 6, 6, 6, 6, 6, 6, 6, 6, 6, 6, 6, 6, 6, 6, 6, 6, 6, 6, 6, 6, 6, 6, 6, 6, 6, 6, 6, 6, 6, 6, 6, 6, 6, 6, 6, 6, 6, 6, 6, 6, 6, 6, 6, 6, 7, 7, 7, 7, 7, 7, 7, 7, 7, 7, 7, 7, 7, 7, 7, 7, 7, 7, 7, 7, 8] 4.931578947368421\n",
      "[0, 4, 5, 5, 5, 5, 5, 6, 6, 6, 6, 6, 6, 7, 7, 7, 7, 7, 8, 12] 6.0\n"
     ]
    }
   ],
   "source": [
    "attack_deck = build_deck()\n",
    "print(attack_deck)\n",
    "\n",
    "damage = attack(6, attack_deck, muddle=True)\n",
    "print(damage, np.mean(damage))\n",
    "\n",
    "damage = attack(6, attack_deck)\n",
    "print(damage, np.mean(damage))"
   ]
  },
  {
   "cell_type": "code",
   "execution_count": 7,
   "id": "split-lucas",
   "metadata": {},
   "outputs": [
    {
     "data": {
      "text/plain": [
       "Text(0, 0.5, 'Expected damage')"
      ]
     },
     "execution_count": 7,
     "metadata": {},
     "output_type": "execute_result"
    },
    {
     "data": {
      "image/png": "[encoded data removed]",
      "text/plain": [
       "<Figure size 432x288 with 1 Axes>"
      ]
     },
     "metadata": {
      "needs_background": "light"
     },
     "output_type": "display_data"
    }
   ],
   "source": [
    "regular = []\n",
    "muddle = []\n",
    "curse = []\n",
    "base = range(1, 7)\n",
    "for i in base:\n",
    "    damage = attack(i, attack_deck)\n",
    "    regular.append(damage)\n",
    "    damage = attack(i, attack_deck, muddle=True)\n",
    "    muddle.append(damage)\n",
    "    damage = attack(i, build_deck(curse_count=1))\n",
    "    curse.append(damage)\n",
    "    \n",
    "plt.figure()\n",
    "plt.plot(base, np.mean(regular, axis=1))\n",
    "plt.plot(base, np.mean(muddle, axis=1))\n",
    "plt.plot(base, np.mean(curse, axis=1))\n",
    "plt.xlabel('Base damage')\n",
    "plt.ylabel('Expected damage')"
   ]
  },
  {
   "cell_type": "code",
   "execution_count": 8,
   "id": "seasonal-lafayette",
   "metadata": {},
   "outputs": [
    {
     "name": "stdout",
     "output_type": "stream",
     "text": [
      "[0.52894737 0.66842105 0.76842105 0.86842105 0.96842105 1.06842105]\n"
     ]
    }
   ],
   "source": [
    "print(np.array(np.mean(regular, axis=1)) - np.array(np.mean(muddle, axis=1)))"
   ]
  },
  {
   "cell_type": "code",
   "execution_count": 9,
   "id": "understood-chair",
   "metadata": {},
   "outputs": [
    {
     "name": "stdout",
     "output_type": "stream",
     "text": [
      "[0.05       0.0952381  0.14285714 0.19047619 0.23809524 0.28571429]\n"
     ]
    }
   ],
   "source": [
    "print(np.array(np.mean(regular, axis=1)) - np.array(np.mean(curse, axis=1)))"
   ]
  },
  {
   "cell_type": "code",
   "execution_count": 10,
   "id": "knowing-footwear",
   "metadata": {},
   "outputs": [
    {
     "data": {
      "text/plain": [
       "Text(0, 0.5, 'Expected damage')"
      ]
     },
     "execution_count": 10,
     "metadata": {},
     "output_type": "execute_result"
    },
    {
     "data": {
      "image/png": "[encoded data removed]",
      "text/plain": [
       "<Figure size 432x288 with 2 Axes>"
      ]
     },
     "metadata": {
      "needs_background": "light"
     },
     "output_type": "display_data"
    }
   ],
   "source": [
    "plt.figure()\n",
    "x = np.linspace(1, 7, 7)\n",
    "y = np.linspace(0, np.max(regular)+1, np.max(regular)+2)\n",
    "z = []\n",
    "\n",
    "\n",
    "for base_atk in regular:\n",
    "    z.append(np.bincount(base_atk, minlength=len(y)))\n",
    "\n",
    "z = np.array(z)\n",
    "plot = plt.pcolormesh(x, y, z.T/len(y), linewidth=0, rasterized=True);\n",
    "plt.xlim(1, 7)\n",
    "plt.colorbar()\n",
    "plt.xlabel('Base damage')\n",
    "plt.ylabel('Expected damage')"
   ]
  },
  {
   "cell_type": "markdown",
   "id": "pursuant-leone",
   "metadata": {},
   "source": [
    "strengthen vs bless"
   ]
  },
  {
   "cell_type": "code",
   "execution_count": null,
   "id": "continued-ready",
   "metadata": {},
   "outputs": [],
   "source": []
  },
  {
   "cell_type": "code",
   "execution_count": null,
   "id": "economic-complex",
   "metadata": {},
   "outputs": [],
   "source": []
  },
  {
   "cell_type": "code",
   "execution_count": null,
   "id": "recent-holocaust",
   "metadata": {},
   "outputs": [],
   "source": []
  }
 ],
 "metadata": {
  "kernelspec": {
   "display_name": "Python 3",
   "language": "python",
   "name": "python3"
  },
  "language_info": {
   "codemirror_mode": {
    "name": "ipython",
    "version": 3
   },
   "file_extension": ".py",
   "mimetype": "text/x-python",
   "name": "python",
   "nbconvert_exporter": "python",
   "pygments_lexer": "ipython3",
   "version": "3.6.9"
  }
 },
 "nbformat": 4,
 "nbformat_minor": 5
}
